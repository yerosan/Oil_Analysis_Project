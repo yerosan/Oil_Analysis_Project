{
 "cells": [
  {
   "cell_type": "markdown",
   "metadata": {},
   "source": [
    "## Exploratory Data Analysis (EDA)\n",
    "EDA is crucial for identifying relationships between Brent oil prices and influencing factors:\n",
    "\n",
    "- **Trend Analysis**: Observe long-term trends in oil prices relative to economic growth or exchange rates.\n",
    "- **Correlation Analysis**: Quantify the relationships between Brent prices and other indicators (e.g., using correlation matrices).\n",
    "- **Seasonality Detection**: Detect seasonal patterns in prices that may align with economic cycles or regulatory changes.\n"
   ]
  },
  {
   "cell_type": "code",
   "execution_count": 1,
   "metadata": {},
   "outputs": [],
   "source": [
    "import os\n",
    "import sys\n",
    "\n",
    "sys.path.insert(0,os.path.dirname(os.getcwd()))"
   ]
  },
  {
   "cell_type": "code",
   "execution_count": 2,
   "metadata": {},
   "outputs": [
    {
     "name": "stderr",
     "output_type": "stream",
     "text": [
      "d:\\week10\\scripts\\data_preprocessing.py:22: UserWarning: Could not infer format, so each element will be parsed individually, falling back to `dateutil`. To ensure parsing is consistent and as-expected, please specify a format.\n",
      "  data = pd.read_csv(self.file_path, parse_dates=['Date'], index_col='Date')\n"
     ]
    },
    {
     "name": "stdout",
     "output_type": "stream",
     "text": [
      "Data loaded successfully.\n",
      "Missing values handled.\n",
      "Outliers removed.\n",
      "Data preprocessing complete.\n"
     ]
    }
   ],
   "source": [
    "from scripts.data_preprocessing import DataPreprocessor\n",
    "from scripts.feature_engineering import FeatureEngineer\n",
    "preprocessor = DataPreprocessor(\"../Data/Copy of BrentOilPrices (1).csv\")\n",
    "preprocessed_data = preprocessor.preprocess()\n"
   ]
  },
  {
   "cell_type": "code",
   "execution_count": 3,
   "metadata": {},
   "outputs": [
    {
     "name": "stdout",
     "output_type": "stream",
     "text": [
      "5 lagged features added for Price.\n",
      "Rolling mean and standard deviation added with a window of 5.\n",
      "Date-based features added (month, day_of_week).\n",
      "Feature engineering complete.\n"
     ]
    }
   ],
   "source": [
    "engineer = FeatureEngineer(preprocessed_data)\n",
    "engineered_data = engineer.engineer_features()\n"
   ]
  }
 ],
 "metadata": {
  "kernelspec": {
   "display_name": "week10",
   "language": "python",
   "name": "python3"
  },
  "language_info": {
   "codemirror_mode": {
    "name": "ipython",
    "version": 3
   },
   "file_extension": ".py",
   "mimetype": "text/x-python",
   "name": "python",
   "nbconvert_exporter": "python",
   "pygments_lexer": "ipython3",
   "version": "3.9.9"
  }
 },
 "nbformat": 4,
 "nbformat_minor": 2
}
